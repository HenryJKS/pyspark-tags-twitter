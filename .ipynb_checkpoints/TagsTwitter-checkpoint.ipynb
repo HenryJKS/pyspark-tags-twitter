{
 "cells": [
  {
   "cell_type": "code",
   "execution_count": 1,
   "id": "e6cedd35-7fa1-4bbe-bca1-715f348a8e64",
   "metadata": {},
   "outputs": [],
   "source": [
    "import tweepy\n",
    "from tweepy import OAuthHandler, StreamRule\n",
    "from tweepy.streaming import StreamRule\n",
    "import socket\n",
    "import json"
   ]
  },
  {
   "cell_type": "code",
   "execution_count": 2,
   "id": "dc6ba850-7daa-4e0c-a043-d58ca9bb736a",
   "metadata": {},
   "outputs": [],
   "source": [
    "consumer_key = ''\n",
    "consumer_secret = ''\n",
    "access_token = ''\n",
    "access_secret = ''"
   ]
  },
  {
   "cell_type": "code",
   "execution_count": 3,
   "id": "cbbee577-117e-4520-bc75-163445ebb04f",
   "metadata": {},
   "outputs": [],
   "source": [
    "class TweetListener(StreamRule):\n",
    "\n",
    "    def __init__(self, csocket):\n",
    "        self.client_socket = csocket\n",
    "\n",
    "    def on_data(self, data):\n",
    "        try:\n",
    "            msg = json.load(data)\n",
    "            print(msg['text'].encode('utf-8'))\n",
    "            self.client_socket.send(msg['text'].encode('utf-8'))\n",
    "            return True\n",
    "        except BaseException as e:\n",
    "            print(\"Error: \", e)\n",
    "        return True\n",
    "\n",
    "    def on_error(self, status):\n",
    "        print(status)\n",
    "        return True"
   ]
  },
  {
   "cell_type": "code",
   "execution_count": 5,
   "id": "737725ec-4e42-4ffd-bb30-d2d5dfcd8cf6",
   "metadata": {},
   "outputs": [],
   "source": [
    "def sendData(c_socket):\n",
    "    auth = OAuthHandler(consumer_key, consumer_secret)\n",
    "    auth.access_token(access_token, access_secret)\n",
    "\n",
    "    twitter_stream = StreamRule(auth, TweetListener(c_socket))\n",
    "    twitter_stream.filter(track=['soccer'])"
   ]
  },
  {
   "cell_type": "code",
   "execution_count": null,
   "id": "3db11cf9-cc04-4ea0-8069-d797d83de8f3",
   "metadata": {},
   "outputs": [
    {
     "name": "stdout",
     "output_type": "stream",
     "text": [
      "Listening on port 5555\n"
     ]
    }
   ],
   "source": [
    "if __name__ == '__main__':\n",
    "    s = socket.socket()\n",
    "    host = '127.0.0.1'\n",
    "    port = 5555\n",
    "    s.bind((host, port))\n",
    "\n",
    "    print('Listening on port 5555')\n",
    "\n",
    "    s.listen(5)\n",
    "    c, addr = s.accept()\n",
    "    sendData(c)"
   ]
  },
  {
   "cell_type": "code",
   "execution_count": null,
   "id": "d31f0c52-69ac-4dec-b460-1cd64a750057",
   "metadata": {},
   "outputs": [],
   "source": []
  }
 ],
 "metadata": {
  "kernelspec": {
   "display_name": "Python 3 (ipykernel)",
   "language": "python",
   "name": "python3"
  },
  "language_info": {
   "codemirror_mode": {
    "name": "ipython",
    "version": 3
   },
   "file_extension": ".py",
   "mimetype": "text/x-python",
   "name": "python",
   "nbconvert_exporter": "python",
   "pygments_lexer": "ipython3",
   "version": "3.12.4"
  }
 },
 "nbformat": 4,
 "nbformat_minor": 5
}
