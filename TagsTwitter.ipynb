{
 "cells": [
  {
   "cell_type": "code",
   "execution_count": 6,
   "id": "e6cedd35-7fa1-4bbe-bca1-715f348a8e64",
   "metadata": {},
   "outputs": [],
   "source": [
    "import tweepy\n",
    "from tweepy import OAuthHandler, StreamRule\n",
    "from tweepy.streaming import StreamRule\n",
    "import socket\n",
    "import json"
   ]
  },
  {
   "cell_type": "code",
   "execution_count": 1,
   "id": "dc6ba850-7daa-4e0c-a043-d58ca9bb736a",
   "metadata": {},
   "outputs": [],
   "source": [
    "BEARER_TOKEN = 'AAAAAAAAAAAAAAAAAAAAACRnzAEAAAAA71nhJ%2BOpTQZ2I63bL2ZJNC1sbao%3DNl29N95dl5kDKAfBZZM4P4g5KbzF1hYNcbC2fXPMUnuLa1X6Qg'"
   ]
  },
  {
   "cell_type": "code",
   "execution_count": 8,
   "id": "cbbee577-117e-4520-bc75-163445ebb04f",
   "metadata": {},
   "outputs": [],
   "source": [
    "class TweetListener(tweepy.StreamingClient):\n",
    "    def __init__(self, bearer_token, csocket):\n",
    "        super().__init__(bearer_token)\n",
    "        self.client_socket = csocket\n",
    "\n",
    "    def on_data(self, raw_data):\n",
    "        try:\n",
    "            msg = json.loads(raw_data)\n",
    "            if \"data\" in msg:\n",
    "                tweet_text = msg[\"data\"][\"text\"]\n",
    "                print(tweet_text) \n",
    "                self.client_socket.send(tweet_text.encode(\"utf-8\"))\n",
    "        except Exception as e:\n",
    "            print(f\"Erro ao processar tweet: {e}\")\n",
    "        return True\n",
    "\n",
    "    def on_error(self, status):\n",
    "        print(f\"Erro na API do Twitter: {status}\")\n",
    "        return True"
   ]
  },
  {
   "cell_type": "code",
   "execution_count": 9,
   "id": "737725ec-4e42-4ffd-bb30-d2d5dfcd8cf6",
   "metadata": {},
   "outputs": [],
   "source": [
    "def sendData(c_socket):\n",
    "    stream = TweetListener(BEARER_TOKEN, c_socket)\n",
    "    \n",
    "    stream.add_rules(tweepy.StreamRule(value=\"soccer\"))\n",
    "\n",
    "    stream.filter()"
   ]
  },
  {
   "cell_type": "code",
   "execution_count": null,
   "id": "3db11cf9-cc04-4ea0-8069-d797d83de8f3",
   "metadata": {},
   "outputs": [
    {
     "name": "stdout",
     "output_type": "stream",
     "text": [
      "Listening on port 9998\n"
     ]
    }
   ],
   "source": [
    "if __name__ == '__main__':\n",
    "    s = socket.socket()\n",
    "    host = '127.0.0.1'\n",
    "    port = 9998\n",
    "    s.bind((host, port))\n",
    "\n",
    "    print('Listening on port 9998')\n",
    "\n",
    "    s.listen(5)\n",
    "    c, addr = s.accept()\n",
    "    sendData(c)"
   ]
  },
  {
   "cell_type": "code",
   "execution_count": 2,
   "id": "eb7027b9-aba2-40b0-958c-01eab42d75a2",
   "metadata": {},
   "outputs": [
    {
     "name": "stdout",
     "output_type": "stream",
     "text": [
      "429\n",
      "{'title': 'Too Many Requests', 'detail': 'Too Many Requests', 'type': 'about:blank', 'status': 429}\n"
     ]
    }
   ],
   "source": [
    "import requests\n",
    "\n",
    "url = \"https://api.twitter.com/2/tweets/search/recent?query=soccer\"\n",
    "\n",
    "headers = {\"Authorization\": f\"Bearer {BEARER_TOKEN}\"}\n",
    "response = requests.get(url, headers=headers)\n",
    "\n",
    "print(response.status_code)\n",
    "print(response.json())"
   ]
  },
  {
   "cell_type": "code",
   "execution_count": null,
   "id": "3746931c-927e-45b8-8c00-4ea91c1afb28",
   "metadata": {},
   "outputs": [],
   "source": []
  }
 ],
 "metadata": {
  "kernelspec": {
   "display_name": "Python 3 (ipykernel)",
   "language": "python",
   "name": "python3"
  },
  "language_info": {
   "codemirror_mode": {
    "name": "ipython",
    "version": 3
   },
   "file_extension": ".py",
   "mimetype": "text/x-python",
   "name": "python",
   "nbconvert_exporter": "python",
   "pygments_lexer": "ipython3",
   "version": "3.12.4"
  }
 },
 "nbformat": 4,
 "nbformat_minor": 5
}
